{
 "cells": [
  {
   "cell_type": "code",
   "execution_count": 1,
   "metadata": {},
   "outputs": [
    {
     "data": {
      "text/plain": [
       "'/home/dellaanima/edit_analysis'"
      ]
     },
     "execution_count": 1,
     "metadata": {},
     "output_type": "execute_result"
    }
   ],
   "source": [
    "pwd"
   ]
  },
  {
   "cell_type": "code",
   "execution_count": 8,
   "metadata": {},
   "outputs": [],
   "source": [
    "import json\n",
    "from transformers import AutoTokenizer\n",
    "\n",
    "# Transformer 모델에서 사용할 tokenizer 로드\n",
    "tokenizer = AutoTokenizer.from_pretrained(\"meta-llama/Llama-2-7b-hf\")\n",
    "\n",
    "# JSON 파일 로드\n",
    "file_path = \"../KE_datasets/zsre_mend_train.json\" \n",
    "with open(file_path, 'r') as file:\n",
    "    data = json.load(file)\n",
    "\n"
   ]
  },
  {
   "cell_type": "code",
   "execution_count": 9,
   "metadata": {},
   "outputs": [
    {
     "name": "stdout",
     "output_type": "stream",
     "text": [
      "전체 샘플 수: 163196\n",
      "Answers 토큰 길이가 Alt 토큰 길이보다 긴 샘플 수: 51584\n",
      "Answers 토큰 길이가 Alt 토큰 길이보다 긴 케이스의 비율: 0.32\n"
     ]
    }
   ],
   "source": [
    "\n",
    "# 'answers'의 토큰 길이가 'alt'보다 긴 경우 계산\n",
    "longer_answers_count = 0\n",
    "total_samples = 0\n",
    "\n",
    "for sample in data:\n",
    "    alt_tokens = tokenizer(sample['alt'])['input_ids']\n",
    "    answers_tokens = [tokenizer(answer)['input_ids'] for answer in sample['answers']]\n",
    "    \n",
    "    # 각 answer의 토큰 길이를 확인하고, alt 토큰 길이보다 긴 경우가 있는지 검사\n",
    "    for tokens in answers_tokens:\n",
    "        if len(tokens) > len(alt_tokens):\n",
    "            longer_answers_count += 1\n",
    "            break  # 최소 하나의 answer만 길면 샘플을 카운트하고 다음 샘플로 넘어갑니다.\n",
    "\n",
    "    total_samples += 1\n",
    "\n",
    "# 결과 출력\n",
    "longer_ratio = longer_answers_count / total_samples if total_samples > 0 else 0\n",
    "print(f\"전체 샘플 수: {total_samples}\")\n",
    "print(f\"Answers 토큰 길이가 Alt 토큰 길이보다 긴 샘플 수: {longer_answers_count}\")\n",
    "print(f\"Answers 토큰 길이가 Alt 토큰 길이보다 긴 케이스의 비율: {longer_ratio:.2f}\")"
   ]
  },
  {
   "cell_type": "code",
   "execution_count": 10,
   "metadata": {},
   "outputs": [
    {
     "name": "stdout",
     "output_type": "stream",
     "text": [
      "전체 샘플 수: 163196\n",
      "Alt 토큰 길이가 모든 Answers 토큰 길이보다 긴 샘플 수: 49380\n",
      "Alt 토큰 길이가 모든 Answers 토큰 길이보다 긴 케이스의 비율: 0.30\n"
     ]
    }
   ],
   "source": [
    "\n",
    "# 'alt'의 토큰 길이가 'answers'의 모든 토큰 길이보다 긴 경우 계산\n",
    "longer_alt_count = 0\n",
    "total_samples = 0\n",
    "\n",
    "for sample in data:\n",
    "    alt_tokens = tokenizer(sample['alt'])['input_ids']\n",
    "    answers_tokens = [tokenizer(answer)['input_ids'] for answer in sample['answers']]\n",
    "    \n",
    "    # 모든 answers의 토큰 길이보다 alt의 토큰 길이가 길어야 카운트\n",
    "    if all(len(alt_tokens) > len(tokens) for tokens in answers_tokens):\n",
    "        longer_alt_count += 1\n",
    "\n",
    "    total_samples += 1\n",
    "\n",
    "# 결과 출력\n",
    "longer_ratio = longer_alt_count / total_samples if total_samples > 0 else 0\n",
    "print(f\"전체 샘플 수: {total_samples}\")\n",
    "print(f\"Alt 토큰 길이가 모든 Answers 토큰 길이보다 긴 샘플 수: {longer_alt_count}\")\n",
    "print(f\"Alt 토큰 길이가 모든 Answers 토큰 길이보다 긴 케이스의 비율: {longer_ratio:.2f}\")"
   ]
  },
  {
   "cell_type": "code",
   "execution_count": 12,
   "metadata": {},
   "outputs": [],
   "source": [
    "import json\n",
    "from transformers import AutoTokenizer\n",
    "\n",
    "# Transformer 모델에서 사용할 tokenizer 로드\n",
    "tokenizer = AutoTokenizer.from_pretrained(\"meta-llama/Llama-2-7b-hf\")\n",
    "\n",
    "# JSON 파일 로드\n",
    "file_path = \"../KE_datasets/counterfact.json\"  \n",
    "with open(file_path, 'r') as file:\n",
    "    data = json.load(file)\n",
    "\n"
   ]
  },
  {
   "cell_type": "code",
   "execution_count": 13,
   "metadata": {},
   "outputs": [
    {
     "name": "stdout",
     "output_type": "stream",
     "text": [
      "전체 샘플 수: 21919\n",
      "target_true(answers) 의 토큰 길이가 target_new(alt) 토큰 길이보다 긴 샘플 수:  5516\n",
      "target_true(answers) 의 토큰 길이가 target_new(alt) 토큰 길이보다 긴 샘플 비율: 0.25\n"
     ]
    }
   ],
   "source": [
    "# 'target_true'의 토큰 길이가 'target_new'보다 긴 경우 계산\n",
    "longer_true_count = 0\n",
    "total_samples = 0\n",
    "\n",
    "for item in data:\n",
    "    target_new_tokens = tokenizer(item['requested_rewrite']['target_new']['str'])['input_ids']\n",
    "    target_true_tokens = tokenizer(item['requested_rewrite']['target_true']['str'])['input_ids']\n",
    "\n",
    "    if len(target_true_tokens) > len(target_new_tokens):\n",
    "        longer_true_count += 1\n",
    "\n",
    "    total_samples += 1\n",
    "\n",
    "# 결과 출력\n",
    "longer_ratio = longer_true_count / total_samples\n",
    "print(f\"전체 샘플 수: {total_samples}\")\n",
    "print(f\"target_true(answers) 의 토큰 길이가 target_new(alt) 토큰 길이보다 긴 샘플 수:  {longer_true_count}\")\n",
    "print(f\"target_true(answers) 의 토큰 길이가 target_new(alt) 토큰 길이보다 긴 샘플 비율: {longer_ratio:.2f}\")\n"
   ]
  },
  {
   "cell_type": "code",
   "execution_count": 18,
   "metadata": {},
   "outputs": [
    {
     "name": "stdout",
     "output_type": "stream",
     "text": [
      "전체 샘플 수: 21919\n",
      "target_true(answers) 의 토큰 길이가 target_new(alt) 토큰 길이보다 긴 샘플 수:  5562\n",
      "target_true(answers) 의 토큰 길이가 target_new(alt) 토큰 길이보다 긴 샘플 비율: 0.25\n"
     ]
    }
   ],
   "source": [
    "# 'target_true'의 토큰 길이가 'target_new'보다 긴 경우 계산\n",
    "longer_new_count = 0\n",
    "total_samples = 0\n",
    "\n",
    "for item in data:\n",
    "    target_new_tokens = tokenizer(item['requested_rewrite']['target_new']['str'])['input_ids']\n",
    "    target_true_tokens = tokenizer(item['requested_rewrite']['target_true']['str'])['input_ids']\n",
    "\n",
    "    if len(target_true_tokens) < len(target_new_tokens):\n",
    "        longer_new_count += 1\n",
    "\n",
    "    total_samples += 1\n",
    "\n",
    "# 결과 출력\n",
    "longer_ratio = longer_new_count / total_samples\n",
    "print(f\"전체 샘플 수: {total_samples}\")\n",
    "print(f\"target_true(answers) 의 토큰 길이가 target_new(alt) 토큰 길이보다 긴 샘플 수:  {longer_new_count}\")\n",
    "print(f\"target_true(answers) 의 토큰 길이가 target_new(alt) 토큰 길이보다 긴 샘플 비율: {longer_ratio:.2f}\")\n"
   ]
  }
 ],
 "metadata": {
  "kernelspec": {
   "display_name": "Python 3",
   "language": "python",
   "name": "python3"
  },
  "language_info": {
   "codemirror_mode": {
    "name": "ipython",
    "version": 3
   },
   "file_extension": ".py",
   "mimetype": "text/x-python",
   "name": "python",
   "nbconvert_exporter": "python",
   "pygments_lexer": "ipython3",
   "version": "3.10.12"
  }
 },
 "nbformat": 4,
 "nbformat_minor": 2
}
